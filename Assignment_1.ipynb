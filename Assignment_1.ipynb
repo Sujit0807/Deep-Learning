{
  "cells": [
    {
      "cell_type": "code",
      "execution_count": null,
      "metadata": {
        "colab": {
          "base_uri": "https://localhost:8080/"
        },
        "id": "KrpcjqiuSvCJ",
        "outputId": "db9f33ef-d769-4354-94ff-a2ec084fc9f9"
      },
      "outputs": [
        {
          "name": "stdout",
          "output_type": "stream",
          "text": [
            "Tensorflow Version: 2.9.2\n"
          ]
        }
      ],
      "source": [
        "import tensorflow as tf\n",
        "print('Tensorflow Version:', tf.__version__)"
      ]
    },
    {
      "cell_type": "code",
      "execution_count": null,
      "metadata": {
        "colab": {
          "base_uri": "https://localhost:8080/"
        },
        "id": "VAOveIZyTGIR",
        "outputId": "1b7989c4-8a4f-4d7b-da8a-eab0ee094d79"
      },
      "outputs": [
        {
          "name": "stdout",
          "output_type": "stream",
          "text": [
            "Hello Tensorflow!\n"
          ]
        }
      ],
      "source": [
        "msg = tf.constant('Hello Tensorflow!')\n",
        "tf.print(msg)"
      ]
    },
    {
      "cell_type": "code",
      "execution_count": null,
      "metadata": {
        "colab": {
          "base_uri": "https://localhost:8080/"
        },
        "id": "Oce9g6goTSRx",
        "outputId": "59663fa7-0740-4329-a3df-769961935652"
      },
      "outputs": [
        {
          "name": "stdout",
          "output_type": "stream",
          "text": [
            "Keras Version: 2.9.0\n"
          ]
        }
      ],
      "source": [
        "import keras\n",
        "print('Keras Version:', keras.__version__)"
      ]
    },
    {
      "cell_type": "code",
      "execution_count": null,
      "metadata": {
        "colab": {
          "base_uri": "https://localhost:8080/"
        },
        "id": "7adMJ0KaU4rE",
        "outputId": "83aad625-7cbf-4d62-bd19-27cac7aa6436"
      },
      "outputs": [
        {
          "name": "stdout",
          "output_type": "stream",
          "text": [
            "Epoch 1/5\n",
            "469/469 [==============================] - 6s 11ms/step - loss: 0.2545 - accuracy: 0.9252\n",
            "Epoch 2/5\n",
            "469/469 [==============================] - 6s 13ms/step - loss: 0.1036 - accuracy: 0.9690\n",
            "Epoch 3/5\n",
            "469/469 [==============================] - 7s 14ms/step - loss: 0.0689 - accuracy: 0.9790\n",
            "Epoch 4/5\n",
            "469/469 [==============================] - 6s 13ms/step - loss: 0.0501 - accuracy: 0.9856\n",
            "Epoch 5/5\n",
            "469/469 [==============================] - 7s 15ms/step - loss: 0.0382 - accuracy: 0.9882\n",
            "313/313 [==============================] - 1s 3ms/step - loss: 0.0675 - accuracy: 0.9788\n",
            "Testing :  0.9787999987602234\n",
            "Training :  0.06750303506851196\n"
          ]
        }
      ],
      "source": [
        "from keras import datasets\n",
        "from keras import models\n",
        "from keras import layers\n",
        "from keras.utils import to_categorical\n",
        "\n",
        "# Load MNIST data\n",
        "(train_images, train_labels), (test_images, test_labels) = datasets.mnist.load_data()\n",
        "\n",
        "# Creating network consists of two dense layers(fully connected layer)\n",
        "network = models.Sequential()\n",
        "network.add(layers.Dense(512, activation='relu', input_shape=(28 * 28,), name=\"layer1\"))\n",
        "network.add(layers.Dense(10, activation='softmax', name=\"layer2\"))\n",
        "\n",
        "# Preparing the training images and labels\n",
        "train_images = train_images.reshape(60000, 28*28)\n",
        "train_images = train_images.astype('float32') / 255\n",
        "train_labels = to_categorical(train_labels)\n",
        "\n",
        "# Preparing the testing images and labels\n",
        "test_images = test_images.reshape(10000, 28*28)\n",
        "test_images = test_images.astype('float32') / 255\n",
        "test_labels = to_categorical(test_labels)\n",
        "\n",
        "# Prepare the network --> rmsprop : root mean square gradient descent\n",
        "network.compile(optimizer='rmsprop', loss='categorical_crossentropy', metrics=['accuracy'])\n",
        "\n",
        "# Fit the neural network\n",
        "network.fit(train_images, train_labels, epochs=5, batch_size=128)\n",
        "\n",
        "# Evaluate the network performance\n",
        "test_loss, test_acc = network.evaluate(test_images, test_labels)\n",
        "\n",
        "# Print testing accuracy and testing loss\n",
        "print('Testing : ', test_acc)\n",
        "print('Training : ', test_loss)"
      ]
    }
  ],
  "metadata": {
    "colab": {
      "provenance": []
    },
    "kernelspec": {
      "display_name": "Python 3",
      "name": "python3"
    },
    "language_info": {
      "name": "python"
    }
  },
  "nbformat": 4,
  "nbformat_minor": 0
}
