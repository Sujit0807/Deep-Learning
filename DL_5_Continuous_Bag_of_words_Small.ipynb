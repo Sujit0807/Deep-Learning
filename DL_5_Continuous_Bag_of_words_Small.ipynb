{
  "cells": [
    {
      "cell_type": "code",
      "execution_count": 1,
      "metadata": {
        "id": "sCVfqccTjpe1",
        "scrolled": true
      },
      "outputs": [],
      "source": [
        "#Importing libraries\n",
        "import numpy as np\n",
        "from nltk.tokenize import sent_tokenize, word_tokenize\n",
        "import warnings\n",
        "warnings.filterwarnings(action = 'ignore')\n",
        "import gensim # for document indexing, NLP\n",
        "from gensim.models import Word2Vec # Technique of NLP, word embedding methodology\n",
        "import re\n",
        "import bs4 as bs\n",
        "import urllib.request\n",
        "\n",
        "import nltk"
      ]
    },
    {
      "cell_type": "code",
      "execution_count": 2,
      "metadata": {
        "colab": {
          "base_uri": "https://localhost:8080/"
        },
        "id": "pL8XSt-9j-du",
        "outputId": "15dd0988-245a-4942-e44d-83c5b14b9d48"
      },
      "outputs": [
        {
          "output_type": "stream",
          "name": "stderr",
          "text": [
            "[nltk_data] Downloading package punkt to /root/nltk_data...\n",
            "[nltk_data]   Unzipping tokenizers/punkt.zip.\n",
            "[nltk_data] Downloading package stopwords to /root/nltk_data...\n",
            "[nltk_data]   Unzipping corpora/stopwords.zip.\n"
          ]
        },
        {
          "output_type": "execute_result",
          "data": {
            "text/plain": [
              "True"
            ]
          },
          "metadata": {},
          "execution_count": 2
        }
      ],
      "source": [
        "\n",
        "nltk.download('punkt')\n",
        "nltk.download('stopwords')"
      ]
    },
    {
      "cell_type": "code",
      "execution_count": 3,
      "metadata": {
        "id": "nIlNgNVJkX9J"
      },
      "outputs": [],
      "source": [
        "sentences=\"\"\"There are plenty of wild animals in this world, and one of them is the Tiger. In Hindi, it is called Baagh. The tiger is a wild animal. Its scientific name is Panthera tigris. It belongs to the family “Felidae” and is the largest living species of cats. Its appearance is distinct with its outer body covered with orange-brown fur with black stripes running vertically on it. It is a carnivore and feeds on the flesh of animals it hunts. It is mostly found in the Indian subcontinent. In this essay on tiger, its behaviour, diet, hunting practices and other characteristics shall be discussed. Today it is an endangered animal, and that’s why students must learn about its habitat and other characteristics.Tigers are mostly found in dense forests of Sunderbans in West Bengal, regions of Tripura and Assam as well as in certain places in central India. A tiger essay in English must contain some details about the majestic appearance of a tiger. A tiger has a large and strong body with brown fur and black vertical stripes. It has four legs, a large head, a long striped tail.\"\"\""
      ]
    },
    {
      "cell_type": "code",
      "execution_count": 4,
      "metadata": {
        "colab": {
          "base_uri": "https://localhost:8080/"
        },
        "id": "4n82Aq2Vk1pa",
        "outputId": "5c3a97e3-3f7a-4ef2-b323-0d3390b7a812"
      },
      "outputs": [
        {
          "output_type": "stream",
          "name": "stdout",
          "text": [
            "There are plenty of wild animals in this world and one of them is the Tiger In Hindi it is called Baagh The tiger is wild animal Its scientific name is Panthera tigris It belongs to the family Felidae and is the largest living species of cats Its appearance is distinct with its outer body covered with orange brown fur with black stripes running vertically on it It is carnivore and feeds on the flesh of animals it hunts It is mostly found in the Indian subcontinent In this essay on tiger its behaviour diet hunting practices and other characteristics shall be discussed Today it is an endangered animal and that why students must learn about its habitat and other characteristics Tigers are mostly found in dense forests of Sunderbans in West Bengal regions of Tripura and Assam as well as in certain places in central India tiger essay in English must contain some details about the majestic appearance of tiger tiger has large and strong body with brown fur and black vertical stripes It has four legs large head long striped tail\n"
          ]
        }
      ],
      "source": [
        "#Remove one letter words\n",
        "sentences = re.sub('[^A-Za-z0-9]+', ' ', sentences)\n",
        "\n",
        "#Remove special characters\n",
        "sentences = re.sub(r'(?:^| )\\w(?:$| )', ' ', sentences).strip()\n",
        "print(sentences)"
      ]
    },
    {
      "cell_type": "code",
      "execution_count": 5,
      "metadata": {
        "id": "tgxIevXDnIdI",
        "outputId": "1489a06b-ca7f-4b69-9e2f-700c427dc958",
        "colab": {
          "base_uri": "https://localhost:8080/",
          "height": 123
        }
      },
      "outputs": [
        {
          "output_type": "execute_result",
          "data": {
            "text/plain": [
              "'there are plenty of wild animals in this world and one of them is the tiger in hindi it is called baagh the tiger is wild animal its scientific name is panthera tigris it belongs to the family felidae and is the largest living species of cats its appearance is distinct with its outer body covered with orange brown fur with black stripes running vertically on it it is carnivore and feeds on the flesh of animals it hunts it is mostly found in the indian subcontinent in this essay on tiger its behaviour diet hunting practices and other characteristics shall be discussed today it is an endangered animal and that why students must learn about its habitat and other characteristics tigers are mostly found in dense forests of sunderbans in west bengal regions of tripura and assam as well as in certain places in central india tiger essay in english must contain some details about the majestic appearance of tiger tiger has large and strong body with brown fur and black vertical stripes it has four legs large head long striped tail'"
            ],
            "application/vnd.google.colaboratory.intrinsic+json": {
              "type": "string"
            }
          },
          "metadata": {},
          "execution_count": 5
        }
      ],
      "source": [
        "#Convert all letters to lowercase\n",
        "sentences = sentences.lower()\n",
        "sentences"
      ]
    },
    {
      "cell_type": "code",
      "execution_count": 8,
      "metadata": {
        "colab": {
          "base_uri": "https://localhost:8080/"
        },
        "id": "YWGXxR0mm2Va",
        "outputId": "ef09b9b2-876d-4672-b757-30f75abb1e5a"
      },
      "outputs": [
        {
          "output_type": "stream",
          "name": "stdout",
          "text": [
            "['there are plenty of wild animals in this world and one of them is the tiger in hindi it is called baagh the tiger is wild animal its scientific name is panthera tigris it belongs to the family felidae and is the largest living species of cats its appearance is distinct with its outer body covered with orange brown fur with black stripes running vertically on it it is carnivore and feeds on the flesh of animals it hunts it is mostly found in the indian subcontinent in this essay on tiger its behaviour diet hunting practices and other characteristics shall be discussed today it is an endangered animal and that why students must learn about its habitat and other characteristics tigers are mostly found in dense forests of sunderbans in west bengal regions of tripura and assam as well as in certain places in central india tiger essay in english must contain some details about the majestic appearance of tiger tiger has large and strong body with brown fur and black vertical stripes it has four legs large head long striped tail']\n"
          ]
        }
      ],
      "source": [
        "#Tokenize sentences --> It means breaking a piece of text into sentences.\n",
        "all_sent=nltk.sent_tokenize(sentences)\n",
        "print(all_sent)"
      ]
    },
    {
      "cell_type": "code",
      "execution_count": 9,
      "metadata": {
        "id": "eD8aAL5knrSc"
      },
      "outputs": [],
      "source": [
        "#Break sentences into words\n",
        "all_words=[nltk.word_tokenize(sent) for sent in all_sent]"
      ]
    },
    {
      "cell_type": "code",
      "execution_count": 10,
      "metadata": {
        "id": "r_O3qiB5oa_U"
      },
      "outputs": [],
      "source": [
        "#Remove stopwords\n",
        "from nltk.corpus import stopwords\n",
        "for i in range(len(all_words)):\n",
        "  all_words[i]=[w for w in all_words[i] if w not in stopwords.words('english')]\n",
        "data =all_words"
      ]
    },
    {
      "cell_type": "code",
      "execution_count": 12,
      "metadata": {
        "id": "7-hjheB5ooGq",
        "colab": {
          "base_uri": "https://localhost:8080/"
        },
        "outputId": "e1051356-8ace-4b4c-fcdf-5db854126809"
      },
      "outputs": [
        {
          "output_type": "stream",
          "name": "stderr",
          "text": [
            "WARNING:gensim.models.base_any2vec:under 10 jobs per worker: consider setting a smaller `batch_words' for smoother alpha decay\n"
          ]
        }
      ],
      "source": [
        "#Training model using gensim --> to extract semantic topics from documents\n",
        "model1 = gensim.models.Word2Vec(data, min_count = 1, window = 6)"
      ]
    },
    {
      "cell_type": "code",
      "execution_count": 13,
      "metadata": {
        "colab": {
          "base_uri": "https://localhost:8080/"
        },
        "id": "xgfeXr8jovHn",
        "outputId": "bf98053e-863c-416c-e600-5c144c0da127"
      },
      "outputs": [
        {
          "output_type": "stream",
          "name": "stdout",
          "text": [
            "('brown', 0.22385582327842712)\n",
            "('bengal', 0.20279951393604279)\n",
            "('living', 0.18414171040058136)\n",
            "('one', 0.16966639459133148)\n",
            "('certain', 0.13826873898506165)\n",
            "('dense', 0.1365128457546234)\n",
            "('habitat', 0.12862682342529297)\n",
            "('tigers', 0.12418282777070999)\n",
            "('family', 0.12278949469327927)\n",
            "('world', 0.11971341073513031)\n"
          ]
        }
      ],
      "source": [
        "#Finding similar words to given word\n",
        "wrd='animals'\n",
        "v1=model1.wv[wrd]\n",
        "similar_words=model1.wv.most_similar(wrd)\n",
        "for x in similar_words:\n",
        "  print(x)"
      ]
    },
    {
      "cell_type": "code",
      "execution_count": 14,
      "metadata": {
        "colab": {
          "base_uri": "https://localhost:8080/"
        },
        "id": "bvQTxKJ2qfQW",
        "outputId": "1621dfdd-7372-4e80-ea6c-a9c196168994"
      },
      "outputs": [
        {
          "output_type": "stream",
          "name": "stdout",
          "text": [
            "['plenty', 'wild', 'animals', 'world', 'one', 'tiger', 'hindi', 'called', 'baagh', 'tiger', 'wild', 'animal', 'scientific', 'name', 'panthera', 'tigris', 'belongs', 'family', 'felidae', 'largest', 'living', 'species', 'cats', 'appearance', 'distinct', 'outer', 'body', 'covered', 'orange', 'brown', 'fur', 'black', 'stripes', 'running', 'vertically', 'carnivore', 'feeds', 'flesh', 'animals', 'hunts', 'mostly', 'found', 'indian', 'subcontinent', 'essay', 'tiger', 'behaviour', 'diet', 'hunting', 'practices', 'characteristics', 'shall', 'discussed', 'today', 'endangered', 'animal', 'students', 'must', 'learn', 'habitat', 'characteristics', 'tigers', 'mostly', 'found', 'dense', 'forests', 'sunderbans', 'west', 'bengal', 'regions', 'tripura', 'assam', 'well', 'certain', 'places', 'central', 'india', 'tiger', 'essay', 'english', 'must', 'contain', 'details', 'majestic', 'appearance', 'tiger', 'tiger', 'large', 'strong', 'body', 'brown', 'fur', 'black', 'vertical', 'stripes', 'four', 'legs', 'large', 'head', 'long', 'striped', 'tail']\n"
          ]
        }
      ],
      "source": [
        "data1 = data[0]\n",
        "print(data1)"
      ]
    },
    {
      "cell_type": "code",
      "execution_count": 15,
      "metadata": {
        "colab": {
          "base_uri": "https://localhost:8080/"
        },
        "id": "GWLH1oMpq1Or",
        "outputId": "4a339fe5-2b27-4c10-8620-826004db5dca"
      },
      "outputs": [
        {
          "output_type": "stream",
          "name": "stdout",
          "text": [
            "[(['plenty', 'wild', 'world', 'one'], 'animals'), (['wild', 'animals', 'one', 'tiger'], 'world'), (['animals', 'world', 'tiger', 'hindi'], 'one'), (['world', 'one', 'hindi', 'called'], 'tiger'), (['one', 'tiger', 'called', 'baagh'], 'hindi'), (['tiger', 'hindi', 'baagh', 'tiger'], 'called'), (['hindi', 'called', 'tiger', 'wild'], 'baagh'), (['called', 'baagh', 'wild', 'animal'], 'tiger'), (['baagh', 'tiger', 'animal', 'scientific'], 'wild'), (['tiger', 'wild', 'scientific', 'name'], 'animal'), (['wild', 'animal', 'name', 'panthera'], 'scientific'), (['animal', 'scientific', 'panthera', 'tigris'], 'name'), (['scientific', 'name', 'tigris', 'belongs'], 'panthera'), (['name', 'panthera', 'belongs', 'family'], 'tigris'), (['panthera', 'tigris', 'family', 'felidae'], 'belongs'), (['tigris', 'belongs', 'felidae', 'largest'], 'family'), (['belongs', 'family', 'largest', 'living'], 'felidae'), (['family', 'felidae', 'living', 'species'], 'largest'), (['felidae', 'largest', 'species', 'cats'], 'living'), (['largest', 'living', 'cats', 'appearance'], 'species'), (['living', 'species', 'appearance', 'distinct'], 'cats'), (['species', 'cats', 'distinct', 'outer'], 'appearance'), (['cats', 'appearance', 'outer', 'body'], 'distinct'), (['appearance', 'distinct', 'body', 'covered'], 'outer'), (['distinct', 'outer', 'covered', 'orange'], 'body'), (['outer', 'body', 'orange', 'brown'], 'covered'), (['body', 'covered', 'brown', 'fur'], 'orange'), (['covered', 'orange', 'fur', 'black'], 'brown'), (['orange', 'brown', 'black', 'stripes'], 'fur'), (['brown', 'fur', 'stripes', 'running'], 'black'), (['fur', 'black', 'running', 'vertically'], 'stripes'), (['black', 'stripes', 'vertically', 'carnivore'], 'running'), (['stripes', 'running', 'carnivore', 'feeds'], 'vertically'), (['running', 'vertically', 'feeds', 'flesh'], 'carnivore'), (['vertically', 'carnivore', 'flesh', 'animals'], 'feeds'), (['carnivore', 'feeds', 'animals', 'hunts'], 'flesh'), (['feeds', 'flesh', 'hunts', 'mostly'], 'animals'), (['flesh', 'animals', 'mostly', 'found'], 'hunts'), (['animals', 'hunts', 'found', 'indian'], 'mostly'), (['hunts', 'mostly', 'indian', 'subcontinent'], 'found'), (['mostly', 'found', 'subcontinent', 'essay'], 'indian'), (['found', 'indian', 'essay', 'tiger'], 'subcontinent'), (['indian', 'subcontinent', 'tiger', 'behaviour'], 'essay'), (['subcontinent', 'essay', 'behaviour', 'diet'], 'tiger'), (['essay', 'tiger', 'diet', 'hunting'], 'behaviour'), (['tiger', 'behaviour', 'hunting', 'practices'], 'diet'), (['behaviour', 'diet', 'practices', 'characteristics'], 'hunting'), (['diet', 'hunting', 'characteristics', 'shall'], 'practices'), (['hunting', 'practices', 'shall', 'discussed'], 'characteristics'), (['practices', 'characteristics', 'discussed', 'today'], 'shall'), (['characteristics', 'shall', 'today', 'endangered'], 'discussed'), (['shall', 'discussed', 'endangered', 'animal'], 'today'), (['discussed', 'today', 'animal', 'students'], 'endangered'), (['today', 'endangered', 'students', 'must'], 'animal'), (['endangered', 'animal', 'must', 'learn'], 'students'), (['animal', 'students', 'learn', 'habitat'], 'must'), (['students', 'must', 'habitat', 'characteristics'], 'learn'), (['must', 'learn', 'characteristics', 'tigers'], 'habitat'), (['learn', 'habitat', 'tigers', 'mostly'], 'characteristics'), (['habitat', 'characteristics', 'mostly', 'found'], 'tigers'), (['characteristics', 'tigers', 'found', 'dense'], 'mostly'), (['tigers', 'mostly', 'dense', 'forests'], 'found'), (['mostly', 'found', 'forests', 'sunderbans'], 'dense'), (['found', 'dense', 'sunderbans', 'west'], 'forests'), (['dense', 'forests', 'west', 'bengal'], 'sunderbans'), (['forests', 'sunderbans', 'bengal', 'regions'], 'west'), (['sunderbans', 'west', 'regions', 'tripura'], 'bengal'), (['west', 'bengal', 'tripura', 'assam'], 'regions'), (['bengal', 'regions', 'assam', 'well'], 'tripura'), (['regions', 'tripura', 'well', 'certain'], 'assam'), (['tripura', 'assam', 'certain', 'places'], 'well'), (['assam', 'well', 'places', 'central'], 'certain'), (['well', 'certain', 'central', 'india'], 'places'), (['certain', 'places', 'india', 'tiger'], 'central'), (['places', 'central', 'tiger', 'essay'], 'india'), (['central', 'india', 'essay', 'english'], 'tiger'), (['india', 'tiger', 'english', 'must'], 'essay'), (['tiger', 'essay', 'must', 'contain'], 'english'), (['essay', 'english', 'contain', 'details'], 'must'), (['english', 'must', 'details', 'majestic'], 'contain'), (['must', 'contain', 'majestic', 'appearance'], 'details'), (['contain', 'details', 'appearance', 'tiger'], 'majestic'), (['details', 'majestic', 'tiger', 'tiger'], 'appearance'), (['majestic', 'appearance', 'tiger', 'large'], 'tiger'), (['appearance', 'tiger', 'large', 'strong'], 'tiger'), (['tiger', 'tiger', 'strong', 'body'], 'large'), (['tiger', 'large', 'body', 'brown'], 'strong'), (['large', 'strong', 'brown', 'fur'], 'body'), (['strong', 'body', 'fur', 'black'], 'brown'), (['body', 'brown', 'black', 'vertical'], 'fur'), (['brown', 'fur', 'vertical', 'stripes'], 'black'), (['fur', 'black', 'stripes', 'four'], 'vertical'), (['black', 'vertical', 'four', 'legs'], 'stripes'), (['vertical', 'stripes', 'legs', 'large'], 'four'), (['stripes', 'four', 'large', 'head'], 'legs'), (['four', 'legs', 'head', 'long'], 'large'), (['legs', 'large', 'long', 'striped'], 'head'), (['large', 'head', 'striped', 'tail'], 'long')]\n"
          ]
        }
      ],
      "source": [
        "#Preparing list of context words\n",
        "\n",
        "dat = []\n",
        "for i in range(2, len(data1) - 2):\n",
        "    context = [data1[i - 2], data1[i - 1], data1[i+1], data1[i + 2]]\n",
        "    target = data1[i]\n",
        "    dat.append((context, target))\n",
        "print(dat)"
      ]
    },
    {
      "cell_type": "code",
      "execution_count": 16,
      "metadata": {
        "colab": {
          "base_uri": "https://localhost:8080/"
        },
        "id": "qN_pKTDfr0PH",
        "outputId": "a07687a4-dc85-42ce-b891-a08c01927f91"
      },
      "outputs": [
        {
          "output_type": "stream",
          "name": "stdout",
          "text": [
            "['world', 'one', 'hindi', 'called'] tiger\n",
            "[('panthera', 0.012195145), ('one', 0.012195145), ('tigers', 0.012195142), ('strong', 0.012195142), ('baagh', 0.012195139), ('shall', 0.012195138), ('assam', 0.012195138), ('english', 0.012195138), ('plenty', 0.012195137), ('vertical', 0.012195137)]\n"
          ]
        }
      ],
      "source": [
        "#Predicting current word from context words\n",
        "i=3\n",
        "print(dat[i][0],dat[i][1])\n",
        "print(model1.predict_output_word(dat[i][0]))"
      ]
    },
    {
      "cell_type": "code",
      "execution_count": null,
      "metadata": {
        "id": "dyyOBrz9iU72"
      },
      "outputs": [],
      "source": []
    }
  ],
  "metadata": {
    "colab": {
      "provenance": []
    },
    "kernelspec": {
      "display_name": "Python 3 (ipykernel)",
      "language": "python",
      "name": "python3"
    },
    "language_info": {
      "codemirror_mode": {
        "name": "ipython",
        "version": 3
      },
      "file_extension": ".py",
      "mimetype": "text/x-python",
      "name": "python",
      "nbconvert_exporter": "python",
      "pygments_lexer": "ipython3",
      "version": "3.10.4"
    }
  },
  "nbformat": 4,
  "nbformat_minor": 0
}